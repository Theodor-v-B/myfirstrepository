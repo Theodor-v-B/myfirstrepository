{
  "nbformat": 4,
  "nbformat_minor": 0,
  "metadata": {
    "colab": {
      "provenance": [],
      "include_colab_link": true
    },
    "kernelspec": {
      "name": "python3",
      "display_name": "Python 3"
    },
    "language_info": {
      "name": "python"
    }
  },
  "cells": [
    {
      "cell_type": "markdown",
      "metadata": {
        "id": "view-in-github",
        "colab_type": "text"
      },
      "source": [
        "<a href=\"https://colab.research.google.com/github/Theodor-v-B/myfirstrepository/blob/Hausaufgaben/if_else.ipynb\" target=\"_parent\"><img src=\"https://colab.research.google.com/assets/colab-badge.svg\" alt=\"Open In Colab\"/></a>"
      ]
    },
    {
      "cell_type": "markdown",
      "source": [
        "## Aufgaben für if-else-Verzweigungen\n",
        "\n",
        "\n",
        "1.  Schreibe ein Programm, das eine Zahl überprüft: Wenn die Zahl negativ ist, gib \"Negativ\" aus, wenn 0 gib \"Null\" aus, wenn positiv, dann \"Positiv\"\n",
        "2.   Erstelle eine if-elif-else-Struktur, die eine Temperatur bewertet: Bei unter 0 Grad: \"Sehr kalt\", bei 0-10 Grad: \"Kalt\", bei 11-20 Grad: \"Mild\", bei 21-30 Grad: \"Warm\", bei über 30 Grad: \"Heiß\"\n",
        "\n"
      ],
      "metadata": {
        "id": "abi1Aq6Pt7im"
      }
    },
    {
      "cell_type": "code",
      "source": [
        "zahl = float(input(\"Gib eine Zahl ein: \"))\n",
        "\n",
        "if zahl < 0:\n",
        "  print(\"Negativ\")\n",
        "elif zahl == 0:\n",
        "  print(\"Null\")\n",
        "else:\n",
        "  print(\"Positiv\")\n"
      ],
      "metadata": {
        "colab": {
          "base_uri": "https://localhost:8080/"
        },
        "id": "VfOJWIjNv322",
        "outputId": "707b3fd4-40b5-4244-90e5-8b00557c181b"
      },
      "execution_count": 7,
      "outputs": [
        {
          "output_type": "stream",
          "name": "stdout",
          "text": [
            "Gib eine Zahl ein: 0\n",
            "Null\n"
          ]
        }
      ]
    },
    {
      "cell_type": "code",
      "source": [
        "temperatur = float(input(\"Gib die Temperatur ein (in Grad): \"))\n",
        "\n",
        "if temperatur < 0:\n",
        "  print(\"SAU kalt! Deutsche Bahn fällt aus! BRRRRR\")\n",
        "elif 0 <= temperatur <= 10:\n",
        "  print(\"Normales Wetter in Deutschland!\")\n",
        "elif 11 <= temperatur <= 20:\n",
        "  print(\"Weihnachten in Deutschland!\")\n",
        "elif 21 <= temperatur <= 30:\n",
        "  print(\"Is muckelig!\")\n",
        "else:\n",
        "  print(\"It's getting hot in here!\")"
      ],
      "metadata": {
        "colab": {
          "base_uri": "https://localhost:8080/"
        },
        "id": "YP-gQLcwxiPD",
        "outputId": "9e5bbac6-3e1d-418a-f9f6-1e37ee170ad0"
      },
      "execution_count": 15,
      "outputs": [
        {
          "output_type": "stream",
          "name": "stdout",
          "text": [
            "Gib die Temperatur ein (in Grad): -3\n",
            "SAU kalt! Deutsche Bahn fällt aus! BRRRRR\n"
          ]
        }
      ]
    }
  ]
}