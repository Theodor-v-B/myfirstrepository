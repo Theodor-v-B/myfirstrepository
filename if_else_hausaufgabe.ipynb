{
  "nbformat": 4,
  "nbformat_minor": 0,
  "metadata": {
    "colab": {
      "provenance": [],
      "include_colab_link": true
    },
    "kernelspec": {
      "name": "python3",
      "display_name": "Python 3"
    },
    "language_info": {
      "name": "python"
    }
  },
  "cells": [
    {
      "cell_type": "markdown",
      "metadata": {
        "id": "view-in-github",
        "colab_type": "text"
      },
      "source": [
        "<a href=\"https://colab.research.google.com/github/Theodor-v-B/myfirstrepository/blob/Hausaufgaben/if_else_hausaufgabe.ipynb\" target=\"_parent\"><img src=\"https://colab.research.google.com/assets/colab-badge.svg\" alt=\"Open In Colab\"/></a>"
      ]
    },
    {
      "cell_type": "markdown",
      "source": [
        "# Hausaufgabe\n",
        "Heute haben wir uns mit den Kontrollstrukturen in Python beschäftigt.\n",
        "Im Zuge dessen bearbeitest du heute Nachmittag weitere kleine Aufgaben zu diesem Thema. Nimm dieses Notebook und füge deinen Code hinzu an den passenden Stellen.\n",
        "**Abgabe**: Gehe oben links auf Datei, dann auf Herunterladen, dann auf .ipynb. Dann startet ein Download des Notebooks. Diese heruntergeladene Datei fügst du bitte als Abgabe in den Classroom ein.\n",
        "\n"
      ],
      "metadata": {
        "id": "32gVnQpZ7mQz"
      }
    },
    {
      "cell_type": "markdown",
      "source": [
        "## if-else\n",
        "### Aufgabe 1 (BMI-Index)\n",
        "Berechne den Body-Mass-Index (BMI) und klassifiziere ihn:\n",
        "- < 18.5: Untergewicht\n",
        "- 18.5 - 24.9: Normalgewicht\n",
        "- 25 - 29.9: Übergewicht\n",
        "- 30+: Adipositas\n",
        "\n",
        "Zusatzaufgabe: Füge eine input-Funktion hinzu, damit du beim Ausführen des Codes, eine Eingabe tätigen kannst.\n",
        "Hinweis: `kg = float(input(\"Bitte gib dein Gewicht ein: \"))`"
      ],
      "metadata": {
        "id": "9pZQdBfN8GDV"
      }
    },
    {
      "cell_type": "code",
      "source": [
        "gewicht = float(input(\"Bitte gib dein Gewicht in kg ein: \"))\n",
        "groesse = float(input(\"Bitte gib deine Größe in Metern ein: \"))\n",
        "\n",
        "bmi = gewicht / (groesse ** 2)\n",
        "\n",
        "if bmi < 18.5:\n",
        "    Bewertung = \"Untergewicht\"\n",
        "elif bmi < 25:\n",
        "    Bewertung = \"Normalgewicht\"\n",
        "elif bmi < 30:\n",
        "    Bewertung = \"Übergewicht\"\n",
        "else:\n",
        "    Bewertung = \"Adipositas\"\n",
        "\n",
        "print(\"Dein BMI ist:\", round(bmi, 2))\n",
        "print(\"Deine BMI-Kategorie ist:\", Bewertung)"
      ],
      "metadata": {
        "id": "54YQr9hA8i95",
        "colab": {
          "base_uri": "https://localhost:8080/"
        },
        "outputId": "474e62d2-d340-49e9-a09c-25e72c3098a6"
      },
      "execution_count": 15,
      "outputs": [
        {
          "output_type": "stream",
          "name": "stdout",
          "text": [
            "Bitte gib dein Gewicht in kg ein: 110\n",
            "Bitte gib deine Größe in Metern ein: 1.70\n",
            "Dein BMI ist: 38.06\n",
            "Deine BMI-Kategorie ist: Adipositas\n"
          ]
        }
      ]
    },
    {
      "cell_type": "markdown",
      "source": [
        "### Beispiel-Aufgabe zum Modulo-Operator (Division mit Rest)\n",
        "Schreibe ein Programm, das eine Zahl überprüft und ausgibt, ob die Zahl durch 3 teilbar ist.\n",
        "Modulo-Operator in Python --> `%`"
      ],
      "metadata": {
        "id": "Q-j4zOXLGJeP"
      }
    },
    {
      "cell_type": "code",
      "source": [
        "zahl = 6\n",
        "if ((zahl % 3) == 0):\n",
        "  print(\"Zahl ist durch 3 teilbar\")\n",
        "else:\n",
        "  print(\"Zahl ist nicht durch 3 teilbar\")"
      ],
      "metadata": {
        "colab": {
          "base_uri": "https://localhost:8080/"
        },
        "id": "U1Vm_NNfGWMi",
        "outputId": "b933e2c4-8a3d-4f33-f962-1411a48f6acf"
      },
      "execution_count": null,
      "outputs": [
        {
          "output_type": "stream",
          "name": "stdout",
          "text": [
            "Zahl ist durch 3 teilbar\n"
          ]
        }
      ]
    },
    {
      "cell_type": "markdown",
      "source": [
        "### Aufgabe 2 (Schaltjahr)\n",
        "Ein Jahr ist ein Schaltjahr, wenn es durch 4 teilbar (Achtung: modulo-Operator) ist, außer es ist durch 100 teilbar – außer es ist durch 400 teilbar.\n",
        "\n",
        "Zusatzaufgabe: Füge eine input-Funktion hinzu, damit du beim Ausführen des Codes, eine Eingabe tätigen kannst."
      ],
      "metadata": {
        "id": "Tz0qkYnt8jIk"
      }
    },
    {
      "cell_type": "code",
      "source": [
        "jahr = int(input(\"Bitte gib ein Jahr ein: \"))\n",
        "\n",
        "if (jahr % 4 == 0 and jahr % 100 != 0) or (jahr % 400 == 0):\n",
        "    print(f\"{jahr} ist ein Schaltjahr.\")\n",
        "else:\n",
        "    print(f\"{jahr} ist kein Schaltjahr.\")"
      ],
      "metadata": {
        "id": "Yj2Kb2rG8rhM",
        "colab": {
          "base_uri": "https://localhost:8080/"
        },
        "outputId": "81f55b5e-4ec0-4e4a-887c-7b4d4e7a202f"
      },
      "execution_count": 10,
      "outputs": [
        {
          "output_type": "stream",
          "name": "stdout",
          "text": [
            "Bitte gib ein Jahr ein: 2016\n",
            "2016 ist ein Schaltjahr.\n"
          ]
        }
      ]
    },
    {
      "cell_type": "markdown",
      "source": [
        "### Aufgabe 3 (Rabatt)\n",
        "Wenn ein Einkaufswert über 100€ liegt, gibt es 10% Rabatt, ansonsten keinen. Berechne den Endpreis.\n",
        "Zusatzaufgabe: Füge eine input-Funktion hinzu, damit du beim Ausführen des Codes, eine Eingabe tätigen kannst."
      ],
      "metadata": {
        "id": "aIckDaYu8sBi"
      }
    },
    {
      "cell_type": "code",
      "source": [
        "einkaufswert = float(input(\"Bitte gib den Einkaufswert in Euro ein: \"))\n",
        "\n",
        "if einkaufswert > 100:\n",
        "  rabatt = 0.10\n",
        "  endpreis = einkaufswert * (1 - rabatt)\n",
        "else:\n",
        "    endpreis = einkaufswert\n",
        "\n",
        "print(\"Der Endpreis beträgt: {:.2f}€\".format(endpreis))\n",
        "\n"
      ],
      "metadata": {
        "id": "iplaWFpB8ycy",
        "colab": {
          "base_uri": "https://localhost:8080/"
        },
        "outputId": "3220390e-b538-4948-b549-0a315addb196"
      },
      "execution_count": 14,
      "outputs": [
        {
          "output_type": "stream",
          "name": "stdout",
          "text": [
            "Bitte gib den Einkaufswert in Euro ein: 110\n",
            "Der Endpreis beträgt: 99.00€\n"
          ]
        }
      ]
    },
    {
      "cell_type": "markdown",
      "source": [
        "## Datentypen\n",
        "### Aufgabe 1\n",
        "Initialisiere Variablen mit den Werten\n",
        "- 42\n",
        "- 3.14\n",
        "- \"Hallo Welt\"\n",
        "- True\n",
        "- [1,2,3]\n",
        "- (1,2)\n",
        "- {\"name\": \"Max\", \"alter\": 22}\n"
      ],
      "metadata": {
        "id": "Em4WQGm888Mc"
      }
    },
    {
      "cell_type": "code",
      "source": [
        "int_variable = 42\n",
        "float_variable = 3.14\n",
        "string_variable = \"Hallo Welt\"\n",
        "bool_variable = True\n",
        "list_variable = [1, 2, 3]\n",
        "tuple_variable = (1, 2)\n",
        "dict_variable = {\"name\": \"Max\", \"alter\": 22}"
      ],
      "metadata": {
        "id": "JOudTf8Q9aPJ"
      },
      "execution_count": null,
      "outputs": []
    },
    {
      "cell_type": "markdown",
      "source": [
        "### Aufgabe 2\n",
        "Bestimme jeweils um welche Art des Datentyps es sich handelt"
      ],
      "metadata": {
        "id": "gnrmw0w79abL"
      }
    },
    {
      "cell_type": "markdown",
      "source": [
        "a = int\n",
        "\n",
        "b = float\n",
        "\n",
        "c = string\n",
        "\n",
        "d = bool\n",
        "\n",
        "e = list\n",
        "\n",
        "f = tuple\n",
        "\n",
        "g = dict"
      ],
      "metadata": {
        "id": "uM-IpReO9b_R"
      }
    },
    {
      "cell_type": "markdown",
      "source": [
        "### Aufgabe 3\n",
        "Recherchiere nach dem Begriff Duck Typing in Python. Was bedeutet das?"
      ],
      "metadata": {
        "id": "Q1HHvqkv9cgx"
      }
    },
    {
      "cell_type": "markdown",
      "source": [
        "[Meine Quelle](https://de.wikipedia.org/wiki/Duck-Typing)\n",
        "\n",
        "# **Was ist das?**\n",
        "\n",
        "Duck Typing ist ein cooles Konzept, bei dem wir nicht auf den genauen Typ von Objekten schauen.\n",
        "\n",
        "\n",
        "# **Wie funktioniert's?**\n",
        "\n",
        "Statt zu checken, ob etwas ein bestimmter Typ ist, schauen wir, ob es die richtigen Methoden hat - sozusagen, was es tut.\n",
        "\n",
        "* Metapher: Denk an das Sprichwort: „*Wenn es wie eine Ente aussieht und quakt, dann ist es eine Ente.*“ Wir kümmern uns nicht um die Marke, sondern um das Verhalten.\n",
        "\n",
        "* Vorteil: Macht unseren Code flexibler, denn wir können viele verschiedene Objekte nutzen, solange sie sich ähnlich verhalten.\n",
        "\n",
        "* Beispiel: Wenn eine Funktion ein speak () erwartet, kann alles, was das kann, verwendet werden - egal, ob es eine Katze, ein Hund oder eine Ente ist.\n",
        "\n",
        "### **Zusammengefasst:**\n",
        "Duck Typing ist einfach eine lässige Art, zu sagen, dass das Verhalten wichtiger ist als der genaue Typ eines Objekts."
      ],
      "metadata": {
        "id": "mOfhQQUK9lhu"
      }
    },
    {
      "cell_type": "code",
      "source": [],
      "metadata": {
        "id": "oxUfEijrgGEM"
      },
      "execution_count": null,
      "outputs": []
    }
  ]
}